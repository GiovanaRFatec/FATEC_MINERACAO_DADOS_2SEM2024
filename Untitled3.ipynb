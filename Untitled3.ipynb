{
  "nbformat": 4,
  "nbformat_minor": 0,
  "metadata": {
    "colab": {
      "provenance": [],
      "authorship_tag": "ABX9TyNyByKeUdpUOwY9M0d5mECm",
      "include_colab_link": true
    },
    "kernelspec": {
      "name": "python3",
      "display_name": "Python 3"
    },
    "language_info": {
      "name": "python"
    }
  },
  "cells": [
    {
      "cell_type": "markdown",
      "metadata": {
        "id": "view-in-github",
        "colab_type": "text"
      },
      "source": [
        "<a href=\"https://colab.research.google.com/github/GiovanaRFatec/FATEC_MINERACAO_DADOS_2SEM2024/blob/master/Untitled3.ipynb\" target=\"_parent\"><img src=\"https://colab.research.google.com/assets/colab-badge.svg\" alt=\"Open In Colab\"/></a>"
      ]
    },
    {
      "cell_type": "markdown",
      "source": [
        "# WEB SCRAPING - RASPAGEM DE DADOS"
      ],
      "metadata": {
        "id": "WESvYIMw8eqS"
      }
    },
    {
      "cell_type": "markdown",
      "source": [
        "A aula sobre \"Introdução à Raspagem de Dados em Sites da Internet\" apresenta\n",
        "um conjunto de técnicas para extrair e processar dados de páginas web de maneira\n",
        "automatizada. Aqui, introduzimos o conceito de web scraping, discutimos as\n",
        "ferramentas principais que serão usadas, como requests, BeautifulSoup e pandas, e\n",
        "definimos o objetivo do encontro: capacitar os alunos a extrair dados estruturados da\n",
        "web e manipulá-los para análise."
      ],
      "metadata": {
        "id": "0B6xv21U8xwW"
      }
    },
    {
      "cell_type": "markdown",
      "source": [
        "**Aluna: Giovana Maria Tereza Ramos**\n",
        "Elaboração dos exercícios proposto da aula"
      ],
      "metadata": {
        "id": "Xj0oje6788xA"
      }
    },
    {
      "cell_type": "markdown",
      "source": [
        "# Instalação das bibliotecas"
      ],
      "metadata": {
        "id": "O0l3dhCB9EBo"
      }
    },
    {
      "cell_type": "code",
      "execution_count": 3,
      "metadata": {
        "colab": {
          "base_uri": "https://localhost:8080/"
        },
        "id": "9EcIZXEc63To",
        "outputId": "479dcce7-f5ab-4589-dc58-14ed83034a32"
      },
      "outputs": [
        {
          "output_type": "stream",
          "name": "stdout",
          "text": [
            "Requirement already satisfied: requests in /usr/local/lib/python3.10/dist-packages (2.32.3)\n",
            "Requirement already satisfied: charset-normalizer<4,>=2 in /usr/local/lib/python3.10/dist-packages (from requests) (3.4.0)\n",
            "Requirement already satisfied: idna<4,>=2.5 in /usr/local/lib/python3.10/dist-packages (from requests) (3.10)\n",
            "Requirement already satisfied: urllib3<3,>=1.21.1 in /usr/local/lib/python3.10/dist-packages (from requests) (2.2.3)\n",
            "Requirement already satisfied: certifi>=2017.4.17 in /usr/local/lib/python3.10/dist-packages (from requests) (2024.8.30)\n",
            "Requirement already satisfied: beautifulsoup4 in /usr/local/lib/python3.10/dist-packages (4.12.3)\n",
            "Requirement already satisfied: soupsieve>1.2 in /usr/local/lib/python3.10/dist-packages (from beautifulsoup4) (2.6)\n"
          ]
        }
      ],
      "source": [
        "!pip install requests\n",
        "!pip install beautifulsoup4\n",
        "\n",
        "import requests\n",
        "from bs4 import BeautifulSoup\n",
        "import pandas as pd"
      ]
    },
    {
      "cell_type": "markdown",
      "source": [
        "Adicionar a URL que iremos realizar a raspagem de dados"
      ],
      "metadata": {
        "id": "OdO-9-LH9s13"
      }
    },
    {
      "cell_type": "code",
      "source": [
        "# URL base para o site de livros com paginação\n",
        "base_url = 'https://books.toscrape.com/catalogue/page-{}.html'\n"
      ],
      "metadata": {
        "id": "ZIVyaHyO6_rG"
      },
      "execution_count": 4,
      "outputs": []
    },
    {
      "cell_type": "markdown",
      "source": [
        "Código para realizar a raspagem do site escolhido"
      ],
      "metadata": {
        "id": "4LAnIEkV931h"
      }
    },
    {
      "cell_type": "code",
      "source": [
        "# Lista para armazenar todos os livros\n",
        "livros = []\n",
        "\n",
        "# Loop para iterar sobre todas as páginas de livros\n",
        "for page in range(1, 51):  # Supondo que existam 50 páginas no máximo\n",
        "    url = base_url.format(page)\n",
        "    response = requests.get(url)\n",
        "\n",
        "    if response.status_code != 200:\n",
        "        print(f\"Falha ao acessar {url}\")\n",
        "        break  # Parar se a página não estiver disponível\n",
        "\n",
        "    soup = BeautifulSoup(response.text, 'html.parser')\n",
        "\n",
        "    # Extrair dados de cada livro na página atual\n",
        "    artigos = soup.find_all('article', class_='product_pod')\n",
        "\n",
        "    # Verificar se ainda há livros na página\n",
        "    if not artigos:\n",
        "        break  # Parar o loop se não houver mais artigos/livros na página\n",
        "\n",
        "    for artigo in artigos:\n",
        "        titulo = artigo.h3.a['title']\n",
        "\n",
        "        # Limpar e converter o preço\n",
        "        preco = artigo.find('p', class_='price_color').text.strip()\n",
        "        preco_limpo = preco.replace('£', '').replace(',', '').replace('Â', '').strip()\n",
        "\n",
        "        try:\n",
        "            preco_float = float(preco_limpo)  # Converter para float\n",
        "        except ValueError:\n",
        "            print(f\"Erro ao converter o preço: {preco_limpo}\")\n",
        "            continue  # Ignorar livro atual se a conversão falhar\n",
        "\n",
        "        disponibilidade = artigo.find('p', class_='instock availability').text.strip()\n",
        "\n",
        "        # Adicionar livro à lista\n",
        "        livros.append({\n",
        "            'Titulo': titulo,\n",
        "            'Preco': preco_float,\n",
        "            'Disponibilidade': disponibilidade\n",
        "        })\n"
      ],
      "metadata": {
        "id": "jLijsYtz7C1O"
      },
      "execution_count": 5,
      "outputs": []
    },
    {
      "cell_type": "markdown",
      "source": [
        "Criação do DataFrame da raspagem"
      ],
      "metadata": {
        "id": "xQmkP434-EgN"
      }
    },
    {
      "cell_type": "code",
      "source": [
        "df = pd.DataFrame(livros)\n",
        "\n",
        "print(\"\\nLista completa dos livros extraídos:\")\n",
        "print(df[['Titulo', 'Preco', 'Disponibilidade']])"
      ],
      "metadata": {
        "colab": {
          "base_uri": "https://localhost:8080/"
        },
        "id": "HUg8uUl37PMT",
        "outputId": "ef8bb60b-3349-4339-8fa6-d81a2faef146"
      },
      "execution_count": 6,
      "outputs": [
        {
          "output_type": "stream",
          "name": "stdout",
          "text": [
            "\n",
            "Lista completa dos livros extraídos:\n",
            "                                                Titulo  Preco Disponibilidade\n",
            "0                                 A Light in the Attic  51.77        In stock\n",
            "1                                   Tipping the Velvet  53.74        In stock\n",
            "2                                           Soumission  50.10        In stock\n",
            "3                                        Sharp Objects  47.82        In stock\n",
            "4                Sapiens: A Brief History of Humankind  54.23        In stock\n",
            "..                                                 ...    ...             ...\n",
            "995  Alice in Wonderland (Alice's Adventures in Won...  55.53        In stock\n",
            "996   Ajin: Demi-Human, Volume 1 (Ajin: Demi-Human #1)  57.06        In stock\n",
            "997  A Spy's Devotion (The Regency Spies of London #1)  16.97        In stock\n",
            "998                1st to Die (Women's Murder Club #1)  53.98        In stock\n",
            "999                 1,000 Places to See Before You Die  26.08        In stock\n",
            "\n",
            "[1000 rows x 3 columns]\n"
          ]
        }
      ]
    },
    {
      "cell_type": "markdown",
      "source": [
        "**1. Preço médio dos livros**"
      ],
      "metadata": {
        "id": "NN2txR7M-Ubw"
      }
    },
    {
      "cell_type": "code",
      "source": [
        "preco_medio = df['Preco'].mean()\n",
        "print(f\"\\nPreço médio dos livros: £{preco_medio:.2f}\")\n"
      ],
      "metadata": {
        "colab": {
          "base_uri": "https://localhost:8080/"
        },
        "id": "wEY8df9R7Ro3",
        "outputId": "05afb9a8-4f76-46b8-9967-90d45123715a"
      },
      "execution_count": 7,
      "outputs": [
        {
          "output_type": "stream",
          "name": "stdout",
          "text": [
            "\n",
            "Preço médio dos livros: £35.07\n"
          ]
        }
      ]
    },
    {
      "cell_type": "markdown",
      "source": [
        "**2. Contagem de livros disponíveis**"
      ],
      "metadata": {
        "id": "-dXTolDI-dKo"
      }
    },
    {
      "cell_type": "code",
      "source": [
        "contagem_disponiveis = df[df['Disponibilidade'].str.contains('In stock')].shape[0]\n",
        "print(f\"Contagem de livros disponíveis: {contagem_disponiveis}\")"
      ],
      "metadata": {
        "colab": {
          "base_uri": "https://localhost:8080/"
        },
        "id": "5tcTdGBZ7UQ2",
        "outputId": "979daa06-85f1-42da-9630-8fb91a1874e8"
      },
      "execution_count": 8,
      "outputs": [
        {
          "output_type": "stream",
          "name": "stdout",
          "text": [
            "Contagem de livros disponíveis: 1000\n"
          ]
        }
      ]
    },
    {
      "cell_type": "markdown",
      "source": [
        "**3. Livros mais caros**"
      ],
      "metadata": {
        "id": "sOVEYv-F-lon"
      }
    },
    {
      "cell_type": "code",
      "source": [
        "livros_mais_caros = df.nlargest(3, 'Preco')\n",
        "print(\"\\nTrês livros mais caros:\")\n",
        "print(livros_mais_caros[['Titulo', 'Preco']])"
      ],
      "metadata": {
        "colab": {
          "base_uri": "https://localhost:8080/"
        },
        "id": "VT3jNk0Y7Wlv",
        "outputId": "c87d5496-8a9e-45ee-a61a-1cff9f253367"
      },
      "execution_count": 9,
      "outputs": [
        {
          "output_type": "stream",
          "name": "stdout",
          "text": [
            "\n",
            "Três livros mais caros:\n",
            "                                 Titulo  Preco\n",
            "648  The Perfect Play (Play by Play #1)  59.99\n",
            "617   Last One Home (New Beginnings #1)  59.98\n",
            "860    Civilization and Its Discontents  59.95\n"
          ]
        }
      ]
    }
  ]
}